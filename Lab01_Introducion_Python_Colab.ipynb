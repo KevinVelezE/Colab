{
  "nbformat": 4,
  "nbformat_minor": 0,
  "metadata": {
    "colab": {
      "provenance": [],
      "include_colab_link": true
    },
    "kernelspec": {
      "name": "python3",
      "display_name": "Python 3"
    },
    "accelerator": "GPU",
    "gpuClass": "standard"
  },
  "cells": [
    {
      "cell_type": "markdown",
      "metadata": {
        "id": "view-in-github",
        "colab_type": "text"
      },
      "source": [
        "<a href=\"https://colab.research.google.com/github/KevinVelezE/Colab/blob/main/Lab01_Introducion_Python_Colab.ipynb\" target=\"_parent\"><img src=\"https://colab.research.google.com/assets/colab-badge.svg\" alt=\"Open In Colab\"/></a>"
      ]
    },
    {
      "cell_type": "markdown",
      "metadata": {
        "id": "5PLryiLA64r1"
      },
      "source": [
        "<h1> <a href=\"https://colab.research.google.com/notebooks/intro.ipynb#scrollTo=5fCEDCU_qrC0\"> Tomado del tutorial de bienvenida de Colab</a> <h1>"
      ]
    },
    {
      "cell_type": "markdown",
      "metadata": {
        "id": "5fCEDCU_qrC0"
      },
      "source": [
        "<p><img alt=\"Colaboratory logo\" height=\"45px\" src=\"/img/colab_favicon.ico\" align=\"left\" hspace=\"10px\" vspace=\"0px\"></p>\n",
        "\n",
        "<h1>¿Qué es Colaboratory?</h1>\n",
        "\n",
        "Colaboratory, o Colab, te permite escribir y ejecutar código de Python en un navegador, con \n",
        "- Sin configuración requerida\n",
        "- Acceso gratuito a GPU\n",
        "- Facilidad para compartir\n",
        "\n",
        "No importa si eres <strong>estudiante</strong>, <strong>científico de datos</strong> o <strong>investigador de IA</strong>, ya que Colab facilita tu trabajo. Mira <a href=\"https://www.youtube.com/watch?v=inN8seMm7UI\">este video introductorio sobre Colab</a> para obtener más información al respecto, o bien comienza a usarlo más abajo."
      ]
    },
    {
      "cell_type": "markdown",
      "metadata": {
        "id": "GJBs_flRovLc"
      },
      "source": [
        "## <strong>Introducción</strong>\n",
        "\n",
        "El documento que estás leyendo no es una página web estática, sino un entorno interactivo denominado <strong>notebook de Colab</strong>, que permite escribir y ejecutar código.\n",
        "\n",
        "Por ejemplo, esta es una <strong>celda de código</strong> con una secuencia de comandos Python corta que calcula un valor, lo almacena en una variable y devuelve el resultado:"
      ]
    },
    {
      "cell_type": "code",
      "metadata": {
        "id": "WPF9OQ7n6nmz",
        "colab": {
          "base_uri": "https://localhost:8080/"
        },
        "outputId": "7653d9d2-acdb-4beb-d859-f36b33bbefb9"
      },
      "source": [
        "seconds_in_a_day = 24 * 60 * 60\n",
        "print(seconds_in_a_day)"
      ],
      "execution_count": null,
      "outputs": [
        {
          "output_type": "stream",
          "name": "stdout",
          "text": [
            "86400\n"
          ]
        }
      ]
    },
    {
      "cell_type": "markdown",
      "metadata": {
        "id": "2fhs6GZ4qFMx"
      },
      "source": [
        "A fin de ejecutar el código en la celda anterior, haz clic en él para seleccionarlo y, luego, presiona el botón de reproducción ubicado a la izquierda del código o usa la combinación de teclas \"Command/Ctrl + Intro\". Para editar el código, solo haz clic en la celda y comienza a editar.\n",
        "\n",
        "Las variables que defines en una celda pueden usarse en otras:"
      ]
    },
    {
      "cell_type": "code",
      "metadata": {
        "id": "96sk2hsb6rVH",
        "colab": {
          "base_uri": "https://localhost:8080/"
        },
        "outputId": "5eb67729-e2b5-4ad9-c8bf-09cdce0ec79a"
      },
      "source": [
        "seconds_in_a_week = 7 * seconds_in_a_day\n",
        "print(seconds_in_a_week)"
      ],
      "execution_count": null,
      "outputs": [
        {
          "output_type": "stream",
          "name": "stdout",
          "text": [
            "604800\n"
          ]
        }
      ]
    },
    {
      "cell_type": "markdown",
      "metadata": {
        "id": "lSrWNr3MuFUS"
      },
      "source": [
        "Los notebooks de Colab te permiten combinar <strong>código ejecutable</strong> y <strong>texto enriquecido</strong> en un único documento, junto con <strong>imágenes</strong>, <strong>HTML</strong>, <strong>LaTeX</strong> y mucho más. Los notebooks que crees en Colab se almacenan en tu cuenta de Google Drive. Puedes compartir fácilmente los notebooks de Colab con amigos o compañeros de trabajo para que realicen comentarios o los editen. Si quieres obtener más información, consulta la <a href=\"/notebooks/basic_features_overview.ipynb\">Descripción general de Colab</a>. Para crear un nuevo notebook de Colab, ve al menú \"Archivo\" que aparece más arriba o usa este vínculo: <a href=\"http://colab.research.google.com#create=true\">crear un nuevo notebook de Colab</a>.\n",
        "\n",
        "Los notebooks de Colab son notebooks de Jupyter que aloja Colab. Para obtener más información sobre el proyecto Jupyter, visita <a href=\"https://www.jupyter.org\">jupyter.org</a>."
      ]
    },
    {
      "cell_type": "markdown",
      "metadata": {
        "id": "-w0LubFfdjsg"
      },
      "source": [
        "<h1> Introducción a Python <h1>"
      ]
    },
    {
      "cell_type": "markdown",
      "metadata": {
        "id": "oiToq145eL7K"
      },
      "source": [
        "Python es un lenguaje de programación interpretado, de alto nivel (high-level), multiplataforma, y para propósitos diversos (general-purpose programming language). Está ampliamente difundido y  <a href=\"https://docs.python.org/es/3/tutorial/index.html\"> documentado</a>."
      ]
    },
    {
      "cell_type": "markdown",
      "metadata": {
        "id": "OWvmKImHeVm7"
      },
      "source": [
        "Tenemos los operadores aritméticos $+$, $-$, $*$ y $/$, para operaciones entre  enteros y reales. Los operadores módulo y potencia se obtinen usando $\\%$ y $**$, respectivamente. La función básica $\\texttt{print}$ imprime la orden indicada entre paréntesis."
      ]
    },
    {
      "cell_type": "code",
      "metadata": {
        "id": "XIuXvsHIfFv1",
        "colab": {
          "base_uri": "https://localhost:8080/"
        },
        "outputId": "3261ea48-c912-4189-a3f0-7cdc22ce6cee"
      },
      "source": [
        "# Los comentarios inician con el caracter numeral '#'\n",
        "print(1+3.141592)\n",
        "print(-1/2)\n",
        "print(10%3)\n",
        "print(10**-4)"
      ],
      "execution_count": null,
      "outputs": [
        {
          "output_type": "stream",
          "name": "stdout",
          "text": [
            "4.141592\n",
            "-0.5\n",
            "1\n",
            "0.0001\n"
          ]
        }
      ]
    },
    {
      "cell_type": "code",
      "metadata": {
        "id": "_PUc2tnbkeRd",
        "colab": {
          "base_uri": "https://localhost:8080/",
          "height": 185
        },
        "outputId": "c41aac2d-68bc-412a-f258-a814e7ca7078"
      },
      "source": [
        "# Veamos el error cuando dividimos por cero\n",
        "print(1/0)"
      ],
      "execution_count": null,
      "outputs": [
        {
          "output_type": "error",
          "ename": "ZeroDivisionError",
          "evalue": "ignored",
          "traceback": [
            "\u001b[0;31m---------------------------------------------------------------------------\u001b[0m",
            "\u001b[0;31mZeroDivisionError\u001b[0m                         Traceback (most recent call last)",
            "\u001b[0;32m<ipython-input-4-91e5117bfd0c>\u001b[0m in \u001b[0;36m<module>\u001b[0;34m\u001b[0m\n\u001b[1;32m      1\u001b[0m \u001b[0;31m# Veamos el error cuando dividimos por cero\u001b[0m\u001b[0;34m\u001b[0m\u001b[0;34m\u001b[0m\u001b[0m\n\u001b[0;32m----> 2\u001b[0;31m \u001b[0mprint\u001b[0m\u001b[0;34m(\u001b[0m\u001b[0;36m1\u001b[0m\u001b[0;34m/\u001b[0m\u001b[0;36m0\u001b[0m\u001b[0;34m)\u001b[0m\u001b[0;34m\u001b[0m\u001b[0;34m\u001b[0m\u001b[0m\n\u001b[0m",
            "\u001b[0;31mZeroDivisionError\u001b[0m: division by zero"
          ]
        }
      ]
    },
    {
      "cell_type": "markdown",
      "metadata": {
        "id": "dDc1hl-9hBAT"
      },
      "source": [
        "Tenemos operadores lógicos $\\texttt{and}$, $\\texttt{or}$ y $\\texttt{not}$. Comparaciones entre números se realizan a través de los símbolos igual a $==$, distinto a $!=$, menor que $<$, mayor que $>$, menor o igual a $<=$, mayor o igual a $>=$. El símbolo igual $=$ asigna valor a una variable."
      ]
    },
    {
      "cell_type": "code",
      "metadata": {
        "id": "DwCZQg4ki08I",
        "colab": {
          "base_uri": "https://localhost:8080/"
        },
        "outputId": "7d181be3-e590-437b-ca9a-d256678703cb"
      },
      "source": [
        "# Asignamos valores a las variables 'a' y 'b'\n",
        "a, b = 10, 11\n",
        "\n",
        "# Podemos comparar los valores asignados a las variables 'a' y 'b'\n",
        "print(a == b)\n",
        "print(a != b)\n",
        "\n",
        "c = 3.1415\n",
        "print((a != b) and (b == c))\n",
        "print((a != b) or  (b == c))\n",
        "print((a <= b) and (b >  c))"
      ],
      "execution_count": null,
      "outputs": [
        {
          "output_type": "stream",
          "name": "stdout",
          "text": [
            "False\n",
            "True\n",
            "False\n",
            "True\n",
            "True\n"
          ]
        }
      ]
    },
    {
      "cell_type": "markdown",
      "metadata": {
        "id": "JYAnFsP5j0XU"
      },
      "source": [
        "Tenemos sentencias de control de flujo dadas por estructuras condicionales ($\\texttt{if}$, $\\texttt{if}\\dots\\texttt{else}$, $\\texttt{if}\\dots\\texttt{elif}\\dots\\texttt{else}$) y por estructuras iterativas ($\\texttt{for}$, $\\texttt{while}$). La función básica $\\texttt{input}$ imprime la orden indicada entre paréntesis y espera por una entrada de teclado suministrada por el usuario. El comando $\\texttt{int}$ convierte a tipo entero la entrada leída por $\\texttt{input}$. IMPORTANTE: Python es sensible a indentación (sangrado)."
      ]
    },
    {
      "cell_type": "code",
      "metadata": {
        "id": "Av4oY9vyj02J",
        "colab": {
          "base_uri": "https://localhost:8080/"
        },
        "outputId": "1cda096f-69b6-454d-ea59-a97d3f099d48"
      },
      "source": [
        "#if\n",
        "n = int(input(\"Teclea un número negativo: \"))\n",
        "if n >= 0:\n",
        "    print(\"No me engañés. El número no es negativo.\")\n",
        "\n",
        "print(\"--------------------------------------------------\")"
      ],
      "execution_count": null,
      "outputs": [
        {
          "output_type": "stream",
          "name": "stdout",
          "text": [
            "Teclea un número negativo: -5\n",
            "--------------------------------------------------\n"
          ]
        }
      ]
    },
    {
      "cell_type": "code",
      "metadata": {
        "id": "nhHlaZ7mhcUo",
        "colab": {
          "base_uri": "https://localhost:8080/"
        },
        "outputId": "9ab53e3c-34e7-4a3e-fd0e-800ab815844e"
      },
      "source": [
        "#if .. elif .. else ..\n",
        "edad = int(input(\"¿Cuántos años tienes?\"))\n",
        "if edad < 18 and edad >= 0:\n",
        "    print(\"Eres menor de edad\")\n",
        "elif edad < 0:\n",
        "    print(\"Edad no valida\")\n",
        "else:\n",
        "    print(\"Eres mayor de edad\")\n",
        "\n",
        "print(\"--------------------------------------------------\")"
      ],
      "execution_count": null,
      "outputs": [
        {
          "output_type": "stream",
          "name": "stdout",
          "text": [
            "¿Cuántos años tienes?22\n",
            "Eres mayor de edad\n",
            "--------------------------------------------------\n"
          ]
        }
      ]
    },
    {
      "cell_type": "code",
      "metadata": {
        "id": "o-Sktw-3hf4v",
        "colab": {
          "base_uri": "https://localhost:8080/"
        },
        "outputId": "43b98a53-d3a5-4930-a639-7629372d3c05"
      },
      "source": [
        "#Ciclo for\n",
        "l = [4,6,0,9,3,1,4,5848,8,7,9,0.1,5848]\n",
        "for e in l:\n",
        "    print(e)\n",
        "\n",
        "print(\"--------------------------------------------------\")"
      ],
      "execution_count": null,
      "outputs": [
        {
          "output_type": "stream",
          "name": "stdout",
          "text": [
            "4\n",
            "6\n",
            "0\n",
            "9\n",
            "3\n",
            "1\n",
            "4\n",
            "5848\n",
            "8\n",
            "7\n",
            "9\n",
            "0.1\n",
            "5848\n",
            "--------------------------------------------------\n"
          ]
        }
      ]
    },
    {
      "cell_type": "code",
      "metadata": {
        "id": "tnx7vevPhlfc",
        "colab": {
          "base_uri": "https://localhost:8080/"
        },
        "outputId": "cb5f7c80-0419-4c3b-f143-2d4ede576fe0"
      },
      "source": [
        "#Ciclo while\n",
        "edad = 0\n",
        "a = edad\n",
        "b = 5\n",
        "while a < b:\n",
        "   print(a)\n",
        "   a = a + 1\n",
        "\n",
        "print(\"--------------------------------------------------\")"
      ],
      "execution_count": null,
      "outputs": [
        {
          "output_type": "stream",
          "name": "stdout",
          "text": [
            "0\n",
            "1\n",
            "2\n",
            "3\n",
            "4\n",
            "--------------------------------------------------\n"
          ]
        }
      ]
    },
    {
      "cell_type": "markdown",
      "metadata": {
        "id": "9VxodN3wodT0"
      },
      "source": [
        "Definimos funciones usando la palabra protegida $\\texttt{def}$, seguida del nombre de la función y, entre paréntesis, los argumentos de la función (si los hay) junto con el símbolo ':'. En una nueva línea, indentando, escribimos las instrucciones de la función. Si la función retorna alguna respuesta, se usa la palabra protegida $\\texttt{return}$ para este fin."
      ]
    },
    {
      "cell_type": "code",
      "metadata": {
        "id": "moq8xWq2o50O",
        "colab": {
          "base_uri": "https://localhost:8080/"
        },
        "outputId": "f7271763-9975-44df-ecba-4cd3133bcd44"
      },
      "source": [
        "def f1(x):\n",
        "    return x**2 - 1 \n",
        "\n",
        "x = float(input(\"Dame el valor de x:\"))\n",
        "print(f1(x))"
      ],
      "execution_count": null,
      "outputs": [
        {
          "output_type": "stream",
          "name": "stdout",
          "text": [
            "Dame el valor de x:5\n",
            "24.0\n"
          ]
        }
      ]
    },
    {
      "cell_type": "markdown",
      "metadata": {
        "id": "0JALz5c5qKKh"
      },
      "source": [
        "Las funciones clásicas usadas en matemáticas se encuentran en las $\\textit{librerías}$ de Python, por ejemplo en la librería $\\texttt{math}$ o en la muy famosa librería $\\texttt{numpy}$. Para usar las funciones y demás métodos de una librería usamos la instrucción $\\texttt{import}$."
      ]
    },
    {
      "cell_type": "code",
      "metadata": {
        "id": "2cQLplU_rA2W",
        "colab": {
          "base_uri": "https://localhost:8080/"
        },
        "outputId": "332edd65-a7de-4fdd-b0ea-238421925e3d"
      },
      "source": [
        "import numpy as np\n",
        "\n",
        "def f2(x):\n",
        "  return np.sin(x)/np.cos(x)\n",
        "\n",
        "print(f2(0))\n",
        "print(f2(2))"
      ],
      "execution_count": null,
      "outputs": [
        {
          "output_type": "stream",
          "name": "stdout",
          "text": [
            "0.0\n",
            "-2.185039863261519\n"
          ]
        }
      ]
    },
    {
      "cell_type": "markdown",
      "metadata": {
        "id": "-Jyh9GN8rrt1"
      },
      "source": [
        "Estudiemos los límites $\\displaystyle\\lim_{x\\to -1}\\frac{x^2-1}{x+1}$ y $\\displaystyle\\lim_{x\\to +1}\\frac{x^3-1}{x-1}$."
      ]
    },
    {
      "cell_type": "code",
      "metadata": {
        "id": "Qd_T3GQrr9qH",
        "colab": {
          "base_uri": "https://localhost:8080/",
          "height": 428
        },
        "outputId": "799f3502-f16e-4c19-adba-d0c13f270c3c"
      },
      "source": [
        "def f3(x):\n",
        "  return (x**2 - 1)/(x + 1)\n",
        "\n",
        "print(f3(-0.9))\n",
        "print(f3(-0.99))\n",
        "print(f3(-0.999))\n",
        "print(f3(-0.9999))\n",
        "print(f3(-0.99999))\n",
        "print(f3(-0.99999999999))\n",
        "\n",
        "# División por cero, error esperado\n",
        "print(f3(-1))"
      ],
      "execution_count": null,
      "outputs": [
        {
          "output_type": "stream",
          "name": "stdout",
          "text": [
            "-1.9\n",
            "-1.990000000000001\n",
            "-1.9989999999999712\n",
            "-1.9998999999994975\n",
            "-1.9999899999991726\n",
            "-2.0\n"
          ]
        },
        {
          "output_type": "error",
          "ename": "ZeroDivisionError",
          "evalue": "ignored",
          "traceback": [
            "\u001b[0;31m---------------------------------------------------------------------------\u001b[0m",
            "\u001b[0;31mZeroDivisionError\u001b[0m                         Traceback (most recent call last)",
            "\u001b[0;32m<ipython-input-14-2151cf93da55>\u001b[0m in \u001b[0;36m<module>\u001b[0;34m\u001b[0m\n\u001b[1;32m     10\u001b[0m \u001b[0;34m\u001b[0m\u001b[0m\n\u001b[1;32m     11\u001b[0m \u001b[0;31m# División por cero, error esperado\u001b[0m\u001b[0;34m\u001b[0m\u001b[0;34m\u001b[0m\u001b[0m\n\u001b[0;32m---> 12\u001b[0;31m \u001b[0mprint\u001b[0m\u001b[0;34m(\u001b[0m\u001b[0mf3\u001b[0m\u001b[0;34m(\u001b[0m\u001b[0;34m-\u001b[0m\u001b[0;36m1\u001b[0m\u001b[0;34m)\u001b[0m\u001b[0;34m)\u001b[0m\u001b[0;34m\u001b[0m\u001b[0;34m\u001b[0m\u001b[0m\n\u001b[0m",
            "\u001b[0;32m<ipython-input-14-2151cf93da55>\u001b[0m in \u001b[0;36mf3\u001b[0;34m(x)\u001b[0m\n\u001b[1;32m      1\u001b[0m \u001b[0;32mdef\u001b[0m \u001b[0mf3\u001b[0m\u001b[0;34m(\u001b[0m\u001b[0mx\u001b[0m\u001b[0;34m)\u001b[0m\u001b[0;34m:\u001b[0m\u001b[0;34m\u001b[0m\u001b[0;34m\u001b[0m\u001b[0m\n\u001b[0;32m----> 2\u001b[0;31m   \u001b[0;32mreturn\u001b[0m \u001b[0;34m(\u001b[0m\u001b[0mx\u001b[0m\u001b[0;34m**\u001b[0m\u001b[0;36m2\u001b[0m \u001b[0;34m-\u001b[0m \u001b[0;36m1\u001b[0m\u001b[0;34m)\u001b[0m\u001b[0;34m/\u001b[0m\u001b[0;34m(\u001b[0m\u001b[0mx\u001b[0m \u001b[0;34m+\u001b[0m \u001b[0;36m1\u001b[0m\u001b[0;34m)\u001b[0m\u001b[0;34m\u001b[0m\u001b[0;34m\u001b[0m\u001b[0m\n\u001b[0m\u001b[1;32m      3\u001b[0m \u001b[0;34m\u001b[0m\u001b[0m\n\u001b[1;32m      4\u001b[0m \u001b[0mprint\u001b[0m\u001b[0;34m(\u001b[0m\u001b[0mf3\u001b[0m\u001b[0;34m(\u001b[0m\u001b[0;34m-\u001b[0m\u001b[0;36m0.9\u001b[0m\u001b[0;34m)\u001b[0m\u001b[0;34m)\u001b[0m\u001b[0;34m\u001b[0m\u001b[0;34m\u001b[0m\u001b[0m\n\u001b[1;32m      5\u001b[0m \u001b[0mprint\u001b[0m\u001b[0;34m(\u001b[0m\u001b[0mf3\u001b[0m\u001b[0;34m(\u001b[0m\u001b[0;34m-\u001b[0m\u001b[0;36m0.99\u001b[0m\u001b[0;34m)\u001b[0m\u001b[0;34m)\u001b[0m\u001b[0;34m\u001b[0m\u001b[0;34m\u001b[0m\u001b[0m\n",
            "\u001b[0;31mZeroDivisionError\u001b[0m: division by zero"
          ]
        }
      ]
    },
    {
      "cell_type": "code",
      "metadata": {
        "id": "RJ9sqKQaslK9",
        "colab": {
          "base_uri": "https://localhost:8080/"
        },
        "outputId": "ba0c7bcc-4d2c-4b00-8a84-83b689a169f2"
      },
      "source": [
        "def f4(x):\n",
        "  return (x**3 - 1)/(x - 1)\n",
        "\n",
        "print(f4(1.01))\n",
        "print(f4(1.00000001))\n",
        "print(f4(0.99999999))\n",
        "\n",
        "# División por eso causa error, como esperado\n",
        "#print(f4(+1))"
      ],
      "execution_count": null,
      "outputs": [
        {
          "output_type": "stream",
          "name": "stdout",
          "text": [
            "3.0301000000000107\n",
            "3.0000000222044605\n",
            "2.9999999666933093\n"
          ]
        }
      ]
    },
    {
      "cell_type": "markdown",
      "metadata": {
        "id": "i6OSA2futYUv"
      },
      "source": [
        "Podemos componer funciones ya definidas por el usuario para crear nuevas funciones."
      ]
    },
    {
      "cell_type": "code",
      "metadata": {
        "id": "OoTfJsButpO8",
        "colab": {
          "base_uri": "https://localhost:8080/"
        },
        "outputId": "7a3b6e61-5416-4d5f-a5c1-dc546bc48d30"
      },
      "source": [
        "def f5(x):\n",
        "  return 3*x\n",
        "\n",
        "def f6(x,h):\n",
        "  return (f5(x+h) - f5(x))/h\n",
        "\n",
        "print(f6(0,1))"
      ],
      "execution_count": null,
      "outputs": [
        {
          "output_type": "stream",
          "name": "stdout",
          "text": [
            "3.0\n"
          ]
        }
      ]
    },
    {
      "cell_type": "code",
      "metadata": {
        "id": "StvP_wGAuK6U",
        "colab": {
          "base_uri": "https://localhost:8080/"
        },
        "outputId": "8a195875-63e2-4ce2-ad4c-a029e6d82180"
      },
      "source": [
        "def f7(x):\n",
        "  return np.sqrt(x)\n",
        "\n",
        "def f8(x,h):\n",
        "  return (f7(x+h) - f7(x))/h\n",
        "\n",
        "print(f8(1,0.000001))"
      ],
      "execution_count": null,
      "outputs": [
        {
          "output_type": "stream",
          "name": "stdout",
          "text": [
            "0.4999998750587764\n"
          ]
        }
      ]
    },
    {
      "cell_type": "markdown",
      "metadata": {
        "id": "SrL1SgnBECTc"
      },
      "source": [
        "Recordemos que si $f(x) = \\sqrt{x} = x^{\\frac{1}{2}}$, $x\\geq 0$, entonces $f'(x) = \\frac{1}{2}x^{-\\frac{1}{2}}$, $x>0$. La librería $\\texttt{matplotlib}$ contiene herramientas para realizar distintos tipos de gráficos a partir de gra variedad de datos. Veamos:"
      ]
    },
    {
      "cell_type": "code",
      "metadata": {
        "id": "3dA8pKA5EFbD",
        "colab": {
          "base_uri": "https://localhost:8080/",
          "height": 297
        },
        "outputId": "8f5bdaa4-55ed-4135-ebf4-2e65777335d4"
      },
      "source": [
        "def f9(x):\n",
        "  return (1/2)*x**(-1/2)\n",
        "\n",
        "# Comparemos los gráficos de f8 (usando un h 'pequeño') y de f9\n",
        "import matplotlib.pyplot as plt\n",
        "\n",
        "# Definamos el dominio donde las funciones serán evaluadas\n",
        "h = 0.001\n",
        "x = np.arange(0.05, 0.5, 0.0001)\n",
        "y1 = f8(x,h)\n",
        "y2 = f9(x)\n",
        "\n",
        "# Gráficos\n",
        "plt.plot(x,y1,'b',label=\"$f_8$\")\n",
        "plt.plot(x,y2,'r',label=\"$f_9$\")\n",
        "\n",
        "plt.xlabel('$x$')\n",
        "plt.ylabel('$y$')\n",
        "plt.legend(loc=\"upper right\")\n",
        "\n",
        "plt.title(\"Comparación entre $f_8$ y $f_9$ para $h = $\"+str(h))\n",
        "plt.grid(True)\n",
        "plt.show()"
      ],
      "execution_count": null,
      "outputs": [
        {
          "output_type": "display_data",
          "data": {
            "text/plain": [
              "<Figure size 432x288 with 1 Axes>"
            ],
            "image/png": "[encoded data removed]"
          },
          "metadata": {
            "needs_background": "light"
          }
        }
      ]
    }
  ]
}